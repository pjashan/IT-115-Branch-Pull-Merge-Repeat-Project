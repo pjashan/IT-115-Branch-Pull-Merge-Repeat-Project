{
  "nbformat": 4,
  "nbformat_minor": 0,
  "metadata": {
    "colab": {
      "name": "How To Use Jupyter Notebooks.ipynb",
      "private_outputs": true,
      "provenance": [],
      "include_colab_link": true
    },
    "kernelspec": {
      "name": "python3",
      "display_name": "Python 3"
    },
    "language_info": {
      "name": "python"
    }
  },
  "cells": [
    {
      "cell_type": "markdown",
      "metadata": {
        "id": "view-in-github",
        "colab_type": "text"
      },
      "source": [
        "<a href=\"https://colab.research.google.com/github/pjashan/IT-115-Branch-Pull-Merge-Repeat-Project/blob/main/How_To_Use_Jupyter_Notebooks.ipynb\" target=\"_parent\"><img src=\"https://colab.research.google.com/assets/colab-badge.svg\" alt=\"Open In Colab\"/></a>"
      ]
    },
    {
      "cell_type": "markdown",
      "source": [
        "We will be using Jupyter Notebooks in this class to combine Java code with text.  Some important points about how to use them:\n",
        "\n",
        "   1. **Only save to github, but save often to github**.  This is because if you save to google drive as well by clicking 'save' you will get permissions issues, and will be told you don't have rights to your github files, which will be frustrating.  To save to github, go to File > Save a Copy To GitHub and then select your IT 211 repository. (If you are having trouble saving to your 211 repo make sure you have checked the \"include private repos\" checkbox and granted colab permission to access your private repos which you will see a request for when you log into github.)\n",
        "   2. The first part of the book involves interacting with the compiler a bit, and using Jupyter notebooks allows us to do that.  Later in the quarter, we will begin using Eclypse, which is an IDE and will give us a lot of nice features.  If you need to contact IT services to get them to install Eclypse on your laptop, please let me know, there is a specific version of Java they will need to install as well.  It is the same version your homework and Jupyter notebooks will be running on, so it's important you be running it as well.\n",
        "   3. When using Jupyter Notebooks to run Javacode we will always have 2 codeblocks, the first will be a codeblock where the first line has `%%writefile Filename.java` followed by the contents of the file that is being written to the fileystem.  The second block compiles the code with the javac command `javac Filename.java` and then executes the file `java Filename.java`.\n",
        "   4. I'm outlining these things for you in writing, but I think it will become second nature in a couple of weeks.\n",
        "   5. We'll start with a hello world program that we can begin to modify, just to see how java works!  Coding seems intimidating but it can also be a ton of fun!!"
      ],
      "metadata": {
        "id": "yzDQ9XSDyDwM"
      }
    },
    {
      "cell_type": "code",
      "execution_count": null,
      "metadata": {
        "id": "GacNuo6dx6pn"
      },
      "outputs": [],
      "source": [
        "%%writefile Hello.java\n",
        "public class Hello {\n",
        "    public static void main (String[] args) {\n",
        "        String message; // decalaration\n",
        "        message = \"I am a message in a variable.\"; // assign the value of the variable\n",
        "      \n",
        "\n",
        "        String nicName = \"Jashan\"; // This also works.\n",
        "\n",
        "        String bird = \"wood chuck\";\n",
        "        String question = \"how much\";\n",
        "        String address = \"912 N 81st, Portland, Oregon, 97234\";\n",
        "        \n",
        "\n",
        "       // System.out.println(message);\n",
        "       // System.out.println(\"message\");\n",
        "       // System.out.println(nicName);\n",
        "         System.out.println(address);\n",
        "\n",
        "\n",
        "      // how much wood could a wood chuck chuck if a wood chuck could chuck wood\n",
        "       System.out.println(question + \" wood could a \" + bird + \" chuck if a\" + bird + \" could chuck wood?\" );\n",
        "\n",
        "\n",
        "\n",
        "\n",
        "    }\n",
        "}"
      ]
    },
    {
      "cell_type": "code",
      "source": [
        "!javac Hello.java\n",
        "!java Hello"
      ],
      "metadata": {
        "id": "9ABWl6fN26aa"
      },
      "execution_count": null,
      "outputs": []
    },
    {
      "cell_type": "code",
      "source": [
        "%%writefile Hello.java\n",
        "public class Hello {\n",
        "    public static void main (String[] args)  {\n",
        "        \n",
        "        int y = 6;\n",
        "        int z = 9;\n",
        "        int result = 9 * (z + ( 6 - 2));\n",
        "\n",
        "\n",
        "\n",
        "        double a = 1.0;\n",
        "        double b = 3; // Java will be begrudgingly do the right thing and make this 3.0\n",
        "\n",
        "        double goodMath = 1.0 / 4.0;\n",
        "        double badMath = 1 / 4; // here's where it all falls apart\n",
        "\n",
        "        double answer = 327.0 / 17.0;\n",
        "\n",
        "         System.out.println(\"result= \" + answer);\n",
        "\n",
        "         System.out.println(\"In the first instance, with variable b, java translates by integer into  a double like so: \" + b );\n",
        "          System.out.println(\"But then, when i try to divide an integer by another integer and store the product as a double, I get this: \" + badMath);\n",
        "           System.out.println(\"This is the result of proper double division: \" + goodMath);\n",
        ";\n",
        "        System.out.println(y + \" , \" + z);\n",
        "        System.out.println(y + z + z / 3 );\n",
        "        System.out.println(\"The result of my calculations are: \" + result);\n",
        "        System.out.print(z + z);\n",
        "        System.out.print(\" \" + z );\n",
        "        System.out.print(\" \" + z );\n",
        "        System.out.println(\" \");\n",
        "        \n",
        "\n",
        "        \n",
        "        // This is a comment\n",
        "\n",
        "        /* This is a \n",
        "           Multi-line\n",
        "           comment\n",
        "                  */\n",
        "\n",
        "    //System.out.println(\"See how the comments are not printed?\");\n",
        "\n",
        "    }\n",
        "}"
      ],
      "metadata": {
        "id": "cWEo8tEjvCKT"
      },
      "execution_count": null,
      "outputs": []
    }
  ]
}