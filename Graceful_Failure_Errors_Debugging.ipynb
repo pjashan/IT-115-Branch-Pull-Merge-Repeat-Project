{
  "nbformat": 4,
  "nbformat_minor": 0,
  "metadata": {
    "colab": {
      "name": "Graceful Failure Errors Debugging.ipynb",
      "private_outputs": true,
      "provenance": [],
      "include_colab_link": true
    },
    "kernelspec": {
      "name": "python3",
      "display_name": "Python 3"
    },
    "language_info": {
      "name": "python"
    }
  },
  "cells": [
    {
      "cell_type": "markdown",
      "metadata": {
        "id": "view-in-github",
        "colab_type": "text"
      },
      "source": [
        "<a href=\"https://colab.research.google.com/github/pjashan/IT-115-Branch-Pull-Merge-Repeat-Project/blob/main/Graceful_Failure_Errors_Debugging.ipynb\" target=\"_parent\"><img src=\"https://colab.research.google.com/assets/colab-badge.svg\" alt=\"Open In Colab\"/></a>"
      ]
    },
    {
      "cell_type": "markdown",
      "source": [
        "Modified lab from the book:\n",
        "\n",
        "It is a good idea to commit as many errors as you can think of, so that you see what error messages the compiler produces. Sometimes the compiler tells you exactly what is wrong, and all you have to do is fix it. But sometimes the error messages are misleading. Over time you will develop a sense for when you can trust the compiler and when you have to figure things out yourself.\n",
        "\n",
        "Starting with the Hello World program, try out each of the following errors. After you make each change:\n",
        "   1. compile the program\n",
        "   2. read the error message (if there is one)\n",
        "   3. record the change you made using a text box in this jupyter notebook.\n",
        "   4.  record the error as well by copying and pasting it into the text box.\n",
        "\n",
        "Your final submission should contain the results of each experiment with the hello world program. After each is recorded, fix the error and move on to the next one.  This excercise will introduce you to errors you will run into for the rest of the quarter while debugging.\n",
        "\n",
        "   * Remove one of the opening curly braces.\n",
        "   * Remove one of the closing curly braces.\n",
        "   * Instead of main, write mian.\n",
        "   * Remove the word static.\n",
        "   * Remove the word public.\n",
        "   * Remove the word System.\n",
        "   * Replace println with Println.\n",
        "   * Replace println with print.\n",
        "   * Delete one parenthesis.\n",
        "   * Add an extra parenthesis."
      ],
      "metadata": {
        "id": "Dp0Fi3z7o7r2"
      }
    },
    {
      "cell_type": "code",
      "execution_count": null,
      "metadata": {
        "id": "9dO5KuXJomeC"
      },
      "outputs": [],
      "source": [
        "%%writefile Hello.java\n",
        "public class Hello {\n",
        "   public static void main(String[] args) {{\n",
        "     System.out.println(\"Hello World!\");\n",
        "    }\n",
        "    \n",
        "}"
      ]
    },
    {
      "cell_type": "code",
      "source": [
        "!javac Hello.java\n",
        "!java Hello"
      ],
      "metadata": {
        "id": "0NtPHyRdrB1l"
      },
      "execution_count": null,
      "outputs": []
    },
    {
      "cell_type": "markdown",
      "source": [
        "1.Remove one of the opening curly braces.\n"
      ],
      "metadata": {
        "id": "OAxk42dCbzug"
      }
    },
    {
      "cell_type": "markdown",
      "source": [
        "Hello.java:2: error: ';' expected\n",
        "    public static void main (String[] args) \n",
        "                                           ^\n",
        "Hello.java:5: error: class, interface, or enum expected\n",
        "}\n",
        "^\n",
        "2 errors\n",
        "Hello World!"
      ],
      "metadata": {
        "id": "5KHJfmJ7d6m6"
      }
    },
    {
      "cell_type": "markdown",
      "source": [
        "2.Remove one of the closing curly braces."
      ],
      "metadata": {
        "id": "gPpmL2SXeA0K"
      }
    },
    {
      "cell_type": "markdown",
      "source": [
        "Hello.java:5: error: reached end of file while parsing\n",
        "}\n",
        " ^\n",
        "1 error\n",
        "Hello World!"
      ],
      "metadata": {
        "id": "BkkCa74ReI2E"
      }
    },
    {
      "cell_type": "markdown",
      "source": [
        "3.Instead of main, write mian."
      ],
      "metadata": {
        "id": "TrwPyhPseVxw"
      }
    },
    {
      "cell_type": "markdown",
      "source": [
        "Error: Main method not found in class Hello, please define the main method as:\n",
        "   public static void main(String[] args)\n",
        "or a JavaFX application class must extend javafx.application.Application"
      ],
      "metadata": {
        "id": "k1C8EHCAeaqu"
      }
    },
    {
      "cell_type": "markdown",
      "source": [
        "4.Remove the word static"
      ],
      "metadata": {
        "id": "yi-ZrYFdemAF"
      }
    },
    {
      "cell_type": "markdown",
      "source": [
        "Error: Main method is not static in class Hello, please define the main method as:\n",
        "   public static void main(String[] args)"
      ],
      "metadata": {
        "id": "1ia82ycVe0kN"
      }
    },
    {
      "cell_type": "markdown",
      "source": [
        "5.Remove the word public."
      ],
      "metadata": {
        "id": "Coc4Yc9Ze-43"
      }
    },
    {
      "cell_type": "markdown",
      "source": [
        "Error: Main method not found in class Hello, please define the main method as:\n",
        "   public static void main(String[] args)\n",
        "or a JavaFX application class must extend javafx.application.Application"
      ],
      "metadata": {
        "id": "fR5dnT1ofJGh"
      }
    },
    {
      "cell_type": "markdown",
      "source": [
        "6.Remove the word System."
      ],
      "metadata": {
        "id": "cwAf-jZPfVCn"
      }
    },
    {
      "cell_type": "markdown",
      "source": [
        "Hello.java:3: error: illegal start of expression\n",
        "      public  .out.println (\"Hello World!\");\n",
        "      ^\n",
        "Hello.java:3: error: illegal start of type\n",
        "      public  .out.println (\"Hello World!\");\n",
        "              ^\n",
        "Hello.java:3: error: <identifier> expected\n",
        "      public  .out.println (\"Hello World!\");\n",
        "                          ^\n",
        "Hello.java:3: error: illegal start of type\n",
        "      public  .out.println (\"Hello World!\");\n",
        "                            ^\n",
        "Hello.java:6: error: class, interface, or enum expected\n",
        "}\n",
        "^\n",
        "5 errors\n",
        "Error: Main method not found in class Hello, please define the main method as:\n",
        "   public static void main(String[] args)\n",
        "or a JavaFX application class must extend javafx.application.Application\n"
      ],
      "metadata": {
        "id": "_DgijDBwfeRS"
      }
    },
    {
      "cell_type": "markdown",
      "source": [
        "7.Replace println with Println."
      ],
      "metadata": {
        "id": "5o7d3v6ffwjH"
      }
    },
    {
      "cell_type": "markdown",
      "source": [
        "Hello.java:3: error: cannot find symbol\n",
        "     System.out.Println(\"Hello World!\");\n",
        "               ^\n",
        "  symbol:   method Println(String)\n",
        "  location: variable out of type PrintStream\n",
        "1 error\n",
        "Hello World!"
      ],
      "metadata": {
        "id": "Wt9XNnYtgFga"
      }
    },
    {
      "cell_type": "markdown",
      "source": [
        "8.Replace println with print."
      ],
      "metadata": {
        "id": "yosd5kPqhRBI"
      }
    },
    {
      "cell_type": "markdown",
      "source": [
        "\n",
        "No error\n",
        "\n"
      ],
      "metadata": {
        "id": "6920ouBFgV6H"
      }
    },
    {
      "cell_type": "markdown",
      "source": [
        "9.Delete one parenthesis."
      ],
      "metadata": {
        "id": "OE4rBD2FgI1v"
      }
    },
    {
      "cell_type": "markdown",
      "source": [
        "Hello.java:2: error: ';' expected\n",
        "   public static void main(String[] args) \n",
        "                                         ^\n",
        "Hello.java:6: error: class, interface, or enum expected\n",
        "}\n",
        "^\n",
        "2 errors\n",
        "Hello World!"
      ],
      "metadata": {
        "id": "_ZNZrdo1kefU"
      }
    },
    {
      "cell_type": "markdown",
      "source": [
        "10.Add an extra parenthesis."
      ],
      "metadata": {
        "id": "m1HPqOwzknNs"
      }
    },
    {
      "cell_type": "markdown",
      "source": [
        "Hello.java:6: error: reached end of file while parsing\n",
        "}\n",
        " ^\n",
        "1 error\n",
        "Hello World!"
      ],
      "metadata": {
        "id": "2lzFhfMDk2xx"
      }
    }
  ]
}